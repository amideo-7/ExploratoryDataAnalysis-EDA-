{
 "cells": [
  {
   "cell_type": "markdown",
   "source": [
    "# Importing the required Libraries"
   ],
   "metadata": {
    "collapsed": false
   }
  },
  {
   "cell_type": "code",
   "execution_count": 175,
   "metadata": {
    "collapsed": true,
    "ExecuteTime": {
     "end_time": "2023-06-04T08:59:05.941187100Z",
     "start_time": "2023-06-04T08:59:05.811233500Z"
    }
   },
   "outputs": [],
   "source": [
    "import numpy as np\n",
    "import pandas as pd\n",
    "import matplotlib.pyplot as plt\n",
    "import seaborn as  sns\n",
    "import plotly.graph_objects as go\n",
    "import plotly.express as px\n",
    "import plotly.subplots as sp\n",
    "import plotly.figure_factory as ff\n",
    "from itertools import cycle\n",
    "import warnings\n",
    "warnings.filterwarnings('ignore')\n",
    "warnings.simplefilter('ignore')"
   ]
  },
  {
   "cell_type": "markdown",
   "source": [
    "# Reading the \"Credits\" Dataset"
   ],
   "metadata": {
    "collapsed": false
   }
  },
  {
   "cell_type": "code",
   "execution_count": 176,
   "outputs": [
    {
     "data": {
      "text/plain": "   person_id       id           name      character   role\n0      59401  ts20945     Joe Besser            Joe  ACTOR\n1      31460  ts20945     Moe Howard            Moe  ACTOR\n2      31461  ts20945     Larry Fine          Larry  ACTOR\n3      21174  tm19248  Buster Keaton    Johnny Gray  ACTOR\n4      28713  tm19248    Marion Mack  Annabelle Lee  ACTOR",
      "text/html": "<div>\n<style scoped>\n    .dataframe tbody tr th:only-of-type {\n        vertical-align: middle;\n    }\n\n    .dataframe tbody tr th {\n        vertical-align: top;\n    }\n\n    .dataframe thead th {\n        text-align: right;\n    }\n</style>\n<table border=\"1\" class=\"dataframe\">\n  <thead>\n    <tr style=\"text-align: right;\">\n      <th></th>\n      <th>person_id</th>\n      <th>id</th>\n      <th>name</th>\n      <th>character</th>\n      <th>role</th>\n    </tr>\n  </thead>\n  <tbody>\n    <tr>\n      <th>0</th>\n      <td>59401</td>\n      <td>ts20945</td>\n      <td>Joe Besser</td>\n      <td>Joe</td>\n      <td>ACTOR</td>\n    </tr>\n    <tr>\n      <th>1</th>\n      <td>31460</td>\n      <td>ts20945</td>\n      <td>Moe Howard</td>\n      <td>Moe</td>\n      <td>ACTOR</td>\n    </tr>\n    <tr>\n      <th>2</th>\n      <td>31461</td>\n      <td>ts20945</td>\n      <td>Larry Fine</td>\n      <td>Larry</td>\n      <td>ACTOR</td>\n    </tr>\n    <tr>\n      <th>3</th>\n      <td>21174</td>\n      <td>tm19248</td>\n      <td>Buster Keaton</td>\n      <td>Johnny Gray</td>\n      <td>ACTOR</td>\n    </tr>\n    <tr>\n      <th>4</th>\n      <td>28713</td>\n      <td>tm19248</td>\n      <td>Marion Mack</td>\n      <td>Annabelle Lee</td>\n      <td>ACTOR</td>\n    </tr>\n  </tbody>\n</table>\n</div>"
     },
     "execution_count": 176,
     "metadata": {},
     "output_type": "execute_result"
    }
   ],
   "source": [
    "credits = pd.read_csv('Dataset\\credits.csv')\n",
    "credits.head()"
   ],
   "metadata": {
    "collapsed": false,
    "ExecuteTime": {
     "end_time": "2023-06-04T08:59:06.124454100Z",
     "start_time": "2023-06-04T08:59:05.823228100Z"
    }
   }
  },
  {
   "cell_type": "markdown",
   "source": [
    "### Analyzing the size of the 'Credits' dataset:"
   ],
   "metadata": {
    "collapsed": false
   }
  },
  {
   "cell_type": "code",
   "execution_count": 177,
   "outputs": [
    {
     "data": {
      "text/plain": "(124235, 5)"
     },
     "execution_count": 177,
     "metadata": {},
     "output_type": "execute_result"
    }
   ],
   "source": [
    "credits.shape"
   ],
   "metadata": {
    "collapsed": false,
    "ExecuteTime": {
     "end_time": "2023-06-04T08:59:06.142450700Z",
     "start_time": "2023-06-04T08:59:06.055645Z"
    }
   }
  },
  {
   "cell_type": "markdown",
   "source": [
    "### Analysing the columns:"
   ],
   "metadata": {
    "collapsed": false
   }
  },
  {
   "cell_type": "code",
   "execution_count": 178,
   "outputs": [
    {
     "data": {
      "text/plain": "Index(['person_id', 'id', 'name', 'character', 'role'], dtype='object')"
     },
     "execution_count": 178,
     "metadata": {},
     "output_type": "execute_result"
    }
   ],
   "source": [
    "credits.columns"
   ],
   "metadata": {
    "collapsed": false,
    "ExecuteTime": {
     "end_time": "2023-06-04T08:59:06.148456800Z",
     "start_time": "2023-06-04T08:59:06.071765100Z"
    }
   }
  },
  {
   "cell_type": "markdown",
   "source": [
    "After reading the credits.csv dataset it is found that the dataset contains 5 columns and 120000+ rows.\n",
    "The column names are as follows:\n",
    "* person_id\n",
    "* id\n",
    "* name\n",
    "* character\n",
    "* role\n",
    "\n",
    "Upon analysing the columns it is evident that this dataset contains data about the actors and what character they played.\n",
    "\n",
    "Now, the dataset is to be analysed for null values."
   ],
   "metadata": {
    "collapsed": false
   }
  },
  {
   "cell_type": "markdown",
   "source": [
    "### Analysing for null values"
   ],
   "metadata": {
    "collapsed": false
   }
  },
  {
   "cell_type": "markdown",
   "source": [
    "Null value analysis is important because the null values can lead to erroneous and misleading analysis of the dataset."
   ],
   "metadata": {
    "collapsed": false
   }
  },
  {
   "cell_type": "code",
   "execution_count": 179,
   "outputs": [
    {
     "data": {
      "text/plain": "character    16287\nperson_id        0\nid               0\nname             0\nrole             0\ndtype: int64"
     },
     "execution_count": 179,
     "metadata": {},
     "output_type": "execute_result"
    }
   ],
   "source": [
    "credits.isnull().sum().sort_values(ascending=False)"
   ],
   "metadata": {
    "collapsed": false,
    "ExecuteTime": {
     "end_time": "2023-06-04T08:59:06.252341200Z",
     "start_time": "2023-06-04T08:59:06.150452600Z"
    }
   }
  },
  {
   "cell_type": "code",
   "execution_count": 180,
   "outputs": [
    {
     "data": {
      "text/plain": "character    13.11\nperson_id     0.00\nid            0.00\nname          0.00\nrole          0.00\ndtype: float64"
     },
     "execution_count": 180,
     "metadata": {},
     "output_type": "execute_result"
    }
   ],
   "source": [
    "round(100*(credits.isnull().sum()/len(credits.index)),2).sort_values(ascending=False)"
   ],
   "metadata": {
    "collapsed": false,
    "ExecuteTime": {
     "end_time": "2023-06-04T08:59:06.426090Z",
     "start_time": "2023-06-04T08:59:06.217024600Z"
    }
   }
  },
  {
   "cell_type": "markdown",
   "source": [
    "This shows us that the 'character' feature in the dataset has around 13% null values. This is fairly low value and can be handled without dropping the column."
   ],
   "metadata": {
    "collapsed": false
   }
  },
  {
   "cell_type": "markdown",
   "source": [
    "### Handling null values:"
   ],
   "metadata": {
    "collapsed": false
   }
  },
  {
   "cell_type": "code",
   "execution_count": 181,
   "outputs": [],
   "source": [
    "credits['character'].replace(np.nan, \"No value\", inplace=True)"
   ],
   "metadata": {
    "collapsed": false,
    "ExecuteTime": {
     "end_time": "2023-06-04T08:59:06.426090Z",
     "start_time": "2023-06-04T08:59:06.243342200Z"
    }
   }
  },
  {
   "cell_type": "code",
   "execution_count": 182,
   "outputs": [
    {
     "data": {
      "text/plain": "   person_id       id           name      character   role\n0      59401  ts20945     Joe Besser            Joe  ACTOR\n1      31460  ts20945     Moe Howard            Moe  ACTOR\n2      31461  ts20945     Larry Fine          Larry  ACTOR\n3      21174  tm19248  Buster Keaton    Johnny Gray  ACTOR\n4      28713  tm19248    Marion Mack  Annabelle Lee  ACTOR",
      "text/html": "<div>\n<style scoped>\n    .dataframe tbody tr th:only-of-type {\n        vertical-align: middle;\n    }\n\n    .dataframe tbody tr th {\n        vertical-align: top;\n    }\n\n    .dataframe thead th {\n        text-align: right;\n    }\n</style>\n<table border=\"1\" class=\"dataframe\">\n  <thead>\n    <tr style=\"text-align: right;\">\n      <th></th>\n      <th>person_id</th>\n      <th>id</th>\n      <th>name</th>\n      <th>character</th>\n      <th>role</th>\n    </tr>\n  </thead>\n  <tbody>\n    <tr>\n      <th>0</th>\n      <td>59401</td>\n      <td>ts20945</td>\n      <td>Joe Besser</td>\n      <td>Joe</td>\n      <td>ACTOR</td>\n    </tr>\n    <tr>\n      <th>1</th>\n      <td>31460</td>\n      <td>ts20945</td>\n      <td>Moe Howard</td>\n      <td>Moe</td>\n      <td>ACTOR</td>\n    </tr>\n    <tr>\n      <th>2</th>\n      <td>31461</td>\n      <td>ts20945</td>\n      <td>Larry Fine</td>\n      <td>Larry</td>\n      <td>ACTOR</td>\n    </tr>\n    <tr>\n      <th>3</th>\n      <td>21174</td>\n      <td>tm19248</td>\n      <td>Buster Keaton</td>\n      <td>Johnny Gray</td>\n      <td>ACTOR</td>\n    </tr>\n    <tr>\n      <th>4</th>\n      <td>28713</td>\n      <td>tm19248</td>\n      <td>Marion Mack</td>\n      <td>Annabelle Lee</td>\n      <td>ACTOR</td>\n    </tr>\n  </tbody>\n</table>\n</div>"
     },
     "execution_count": 182,
     "metadata": {},
     "output_type": "execute_result"
    }
   ],
   "source": [
    "credits.head()"
   ],
   "metadata": {
    "collapsed": false,
    "ExecuteTime": {
     "end_time": "2023-06-04T08:59:06.504087Z",
     "start_time": "2023-06-04T08:59:06.275360500Z"
    }
   }
  },
  {
   "cell_type": "markdown",
   "source": [
    "Now the null values have been handled."
   ],
   "metadata": {
    "collapsed": false
   }
  },
  {
   "cell_type": "markdown",
   "source": [
    "# Reading the 'Title' dataset"
   ],
   "metadata": {
    "collapsed": false
   }
  },
  {
   "cell_type": "code",
   "execution_count": 183,
   "outputs": [
    {
     "data": {
      "text/plain": "        id                        title   type   \n0  ts20945            The Three Stooges   SHOW  \\\n1  tm19248                  The General  MOVIE   \n2  tm82253  The Best Years of Our Lives  MOVIE   \n3  tm83884              His Girl Friday  MOVIE   \n4  tm56584            In a Lonely Place  MOVIE   \n\n                                         description  release_year   \n0  The Three Stooges were an American vaudeville ...          1934  \\\n1  During America’s Civil War, Union spies steal ...          1926   \n2  It's the hope that sustains the spirit of ever...          1946   \n3  Hildy, the journalist former wife of newspaper...          1940   \n4  An aspiring actress begins to suspect that her...          1950   \n\n  age_certification  runtime   \n0             TV-PG       19  \\\n1               NaN       78   \n2               NaN      171   \n3               NaN       92   \n4               NaN       94   \n\n                                              genres production_countries   \n0  ['comedy', 'family', 'animation', 'action', 'f...               ['US']  \\\n1  ['action', 'drama', 'war', 'western', 'comedy'...               ['US']   \n2                        ['romance', 'war', 'drama']               ['US']   \n3                     ['comedy', 'drama', 'romance']               ['US']   \n4                   ['thriller', 'drama', 'romance']               ['US']   \n\n   seasons    imdb_id  imdb_score  imdb_votes  tmdb_popularity  tmdb_score  \n0     26.0  tt0850645         8.6      1092.0           15.424         7.6  \n1      NaN  tt0017925         8.2     89766.0            8.647         8.0  \n2      NaN  tt0036868         8.1     63026.0            8.435         7.8  \n3      NaN  tt0032599         7.8     57835.0           11.270         7.4  \n4      NaN  tt0042593         7.9     30924.0            8.273         7.6  ",
      "text/html": "<div>\n<style scoped>\n    .dataframe tbody tr th:only-of-type {\n        vertical-align: middle;\n    }\n\n    .dataframe tbody tr th {\n        vertical-align: top;\n    }\n\n    .dataframe thead th {\n        text-align: right;\n    }\n</style>\n<table border=\"1\" class=\"dataframe\">\n  <thead>\n    <tr style=\"text-align: right;\">\n      <th></th>\n      <th>id</th>\n      <th>title</th>\n      <th>type</th>\n      <th>description</th>\n      <th>release_year</th>\n      <th>age_certification</th>\n      <th>runtime</th>\n      <th>genres</th>\n      <th>production_countries</th>\n      <th>seasons</th>\n      <th>imdb_id</th>\n      <th>imdb_score</th>\n      <th>imdb_votes</th>\n      <th>tmdb_popularity</th>\n      <th>tmdb_score</th>\n    </tr>\n  </thead>\n  <tbody>\n    <tr>\n      <th>0</th>\n      <td>ts20945</td>\n      <td>The Three Stooges</td>\n      <td>SHOW</td>\n      <td>The Three Stooges were an American vaudeville ...</td>\n      <td>1934</td>\n      <td>TV-PG</td>\n      <td>19</td>\n      <td>['comedy', 'family', 'animation', 'action', 'f...</td>\n      <td>['US']</td>\n      <td>26.0</td>\n      <td>tt0850645</td>\n      <td>8.6</td>\n      <td>1092.0</td>\n      <td>15.424</td>\n      <td>7.6</td>\n    </tr>\n    <tr>\n      <th>1</th>\n      <td>tm19248</td>\n      <td>The General</td>\n      <td>MOVIE</td>\n      <td>During America’s Civil War, Union spies steal ...</td>\n      <td>1926</td>\n      <td>NaN</td>\n      <td>78</td>\n      <td>['action', 'drama', 'war', 'western', 'comedy'...</td>\n      <td>['US']</td>\n      <td>NaN</td>\n      <td>tt0017925</td>\n      <td>8.2</td>\n      <td>89766.0</td>\n      <td>8.647</td>\n      <td>8.0</td>\n    </tr>\n    <tr>\n      <th>2</th>\n      <td>tm82253</td>\n      <td>The Best Years of Our Lives</td>\n      <td>MOVIE</td>\n      <td>It's the hope that sustains the spirit of ever...</td>\n      <td>1946</td>\n      <td>NaN</td>\n      <td>171</td>\n      <td>['romance', 'war', 'drama']</td>\n      <td>['US']</td>\n      <td>NaN</td>\n      <td>tt0036868</td>\n      <td>8.1</td>\n      <td>63026.0</td>\n      <td>8.435</td>\n      <td>7.8</td>\n    </tr>\n    <tr>\n      <th>3</th>\n      <td>tm83884</td>\n      <td>His Girl Friday</td>\n      <td>MOVIE</td>\n      <td>Hildy, the journalist former wife of newspaper...</td>\n      <td>1940</td>\n      <td>NaN</td>\n      <td>92</td>\n      <td>['comedy', 'drama', 'romance']</td>\n      <td>['US']</td>\n      <td>NaN</td>\n      <td>tt0032599</td>\n      <td>7.8</td>\n      <td>57835.0</td>\n      <td>11.270</td>\n      <td>7.4</td>\n    </tr>\n    <tr>\n      <th>4</th>\n      <td>tm56584</td>\n      <td>In a Lonely Place</td>\n      <td>MOVIE</td>\n      <td>An aspiring actress begins to suspect that her...</td>\n      <td>1950</td>\n      <td>NaN</td>\n      <td>94</td>\n      <td>['thriller', 'drama', 'romance']</td>\n      <td>['US']</td>\n      <td>NaN</td>\n      <td>tt0042593</td>\n      <td>7.9</td>\n      <td>30924.0</td>\n      <td>8.273</td>\n      <td>7.6</td>\n    </tr>\n  </tbody>\n</table>\n</div>"
     },
     "execution_count": 183,
     "metadata": {},
     "output_type": "execute_result"
    }
   ],
   "source": [
    "title = pd.read_csv(\"Dataset/titles.csv\")\n",
    "title.head()"
   ],
   "metadata": {
    "collapsed": false,
    "ExecuteTime": {
     "end_time": "2023-06-04T08:59:06.506594600Z",
     "start_time": "2023-06-04T08:59:06.305863200Z"
    }
   }
  },
  {
   "cell_type": "markdown",
   "source": [
    "### Analysing the size of the 'Titles' dataset:"
   ],
   "metadata": {
    "collapsed": false
   }
  },
  {
   "cell_type": "code",
   "execution_count": 184,
   "outputs": [
    {
     "data": {
      "text/plain": "(9871, 15)"
     },
     "execution_count": 184,
     "metadata": {},
     "output_type": "execute_result"
    }
   ],
   "source": [
    "title.shape"
   ],
   "metadata": {
    "collapsed": false,
    "ExecuteTime": {
     "end_time": "2023-06-04T08:59:06.507610900Z",
     "start_time": "2023-06-04T08:59:06.446010200Z"
    }
   }
  },
  {
   "cell_type": "markdown",
   "source": [
    "### Analysing the columns:"
   ],
   "metadata": {
    "collapsed": false
   }
  },
  {
   "cell_type": "code",
   "execution_count": 185,
   "outputs": [
    {
     "data": {
      "text/plain": "Index(['id', 'title', 'type', 'description', 'release_year',\n       'age_certification', 'runtime', 'genres', 'production_countries',\n       'seasons', 'imdb_id', 'imdb_score', 'imdb_votes', 'tmdb_popularity',\n       'tmdb_score'],\n      dtype='object')"
     },
     "execution_count": 185,
     "metadata": {},
     "output_type": "execute_result"
    }
   ],
   "source": [
    "title.columns"
   ],
   "metadata": {
    "collapsed": false,
    "ExecuteTime": {
     "end_time": "2023-06-04T08:59:06.691964Z",
     "start_time": "2023-06-04T08:59:06.461496100Z"
    }
   }
  },
  {
   "cell_type": "markdown",
   "source": [
    "After reading the titles.csv dataset it is found that the dataset contains 15 columns and 9800+ rows. The column names are as follows:\n",
    "* id\n",
    "* title\n",
    "* type\n",
    "* description\n",
    "* release_year\n",
    "* age_certification\n",
    "* runtime\n",
    "* genres\n",
    "* production_countries\n",
    "* seasons\n",
    "* imdb_id\n",
    "* imdb_score\n",
    "* imdb_votes\n",
    "* tmdb_popularity\n",
    "* tmdb_score\n",
    "\n",
    "Upon analysing the columns it is evident that this dataset contains data about various movies and web series available on Amazon Prime along with data about their release year, genres, production countries, type, runtime etc., along with their IMDB(Internet Movie Database) and TMDB(The Movie Database) scores and popularity.\n",
    "\n",
    "Now, the dataset is to be analysed for null values."
   ],
   "metadata": {
    "collapsed": false
   }
  },
  {
   "cell_type": "markdown",
   "source": [
    "### Analysing the null values:"
   ],
   "metadata": {
    "collapsed": false
   }
  },
  {
   "cell_type": "markdown",
   "source": [
    "Null value analysis is important because the null values can lead to erroneous and misleading analysis of the dataset."
   ],
   "metadata": {
    "collapsed": false
   }
  },
  {
   "cell_type": "code",
   "execution_count": 186,
   "outputs": [
    {
     "data": {
      "text/plain": "seasons                 8514\nage_certification       6487\ntmdb_score              2082\nimdb_votes              1031\nimdb_score              1021\nimdb_id                  667\ntmdb_popularity          547\ndescription              119\nid                         0\ntitle                      0\ntype                       0\nrelease_year               0\nruntime                    0\ngenres                     0\nproduction_countries       0\ndtype: int64"
     },
     "execution_count": 186,
     "metadata": {},
     "output_type": "execute_result"
    }
   ],
   "source": [
    "title.isnull().sum().sort_values(ascending=False)"
   ],
   "metadata": {
    "collapsed": false,
    "ExecuteTime": {
     "end_time": "2023-06-04T08:59:06.691964Z",
     "start_time": "2023-06-04T08:59:06.538821200Z"
    }
   }
  },
  {
   "cell_type": "code",
   "execution_count": 187,
   "outputs": [
    {
     "data": {
      "text/plain": "seasons                 86.25\nage_certification       65.72\ntmdb_score              21.09\nimdb_votes              10.44\nimdb_score              10.34\nimdb_id                  6.76\ntmdb_popularity          5.54\ndescription              1.21\nid                       0.00\ntitle                    0.00\ntype                     0.00\nrelease_year             0.00\nruntime                  0.00\ngenres                   0.00\nproduction_countries     0.00\ndtype: float64"
     },
     "execution_count": 187,
     "metadata": {},
     "output_type": "execute_result"
    }
   ],
   "source": [
    "round(100*(title.isnull().sum()/len(title.index)),2).sort_values(ascending=False)"
   ],
   "metadata": {
    "collapsed": false,
    "ExecuteTime": {
     "end_time": "2023-06-04T08:59:06.692964500Z",
     "start_time": "2023-06-04T08:59:06.571816400Z"
    }
   }
  },
  {
   "cell_type": "markdown",
   "source": [
    "This analysis show us that the 'seasons' and 'age_certification' features in the dataset has more than 50% null values. So it would be better to drop these features. Dropping these feature is a better option because the missing data is large, and it can't be handled just by replacing the null values."
   ],
   "metadata": {
    "collapsed": false
   }
  },
  {
   "cell_type": "markdown",
   "source": [
    "### Dropping the columns with more than 50% null values:"
   ],
   "metadata": {
    "collapsed": false
   }
  },
  {
   "cell_type": "code",
   "execution_count": 188,
   "outputs": [
    {
     "data": {
      "text/plain": "tmdb_score              21.09\nimdb_votes              10.44\nimdb_score              10.34\nimdb_id                  6.76\ntmdb_popularity          5.54\ndescription              1.21\nid                       0.00\ntitle                    0.00\ntype                     0.00\nrelease_year             0.00\nruntime                  0.00\ngenres                   0.00\nproduction_countries     0.00\ndtype: float64"
     },
     "execution_count": 188,
     "metadata": {},
     "output_type": "execute_result"
    }
   ],
   "source": [
    "title = title.drop(columns=['seasons','age_certification'])\n",
    "round(100*(title.isnull().sum()/len(title.index)),2).sort_values(ascending=False)"
   ],
   "metadata": {
    "collapsed": false,
    "ExecuteTime": {
     "end_time": "2023-06-04T08:59:06.724025800Z",
     "start_time": "2023-06-04T08:59:06.600831300Z"
    }
   }
  },
  {
   "cell_type": "code",
   "execution_count": 188,
   "outputs": [],
   "source": [],
   "metadata": {
    "collapsed": false,
    "ExecuteTime": {
     "end_time": "2023-06-04T08:59:06.844995100Z",
     "start_time": "2023-06-04T08:59:06.632354700Z"
    }
   }
  }
 ],
 "metadata": {
  "kernelspec": {
   "display_name": "Python 3",
   "language": "python",
   "name": "python3"
  },
  "language_info": {
   "codemirror_mode": {
    "name": "ipython",
    "version": 2
   },
   "file_extension": ".py",
   "mimetype": "text/x-python",
   "name": "python",
   "nbconvert_exporter": "python",
   "pygments_lexer": "ipython2",
   "version": "2.7.6"
  }
 },
 "nbformat": 4,
 "nbformat_minor": 0
}
